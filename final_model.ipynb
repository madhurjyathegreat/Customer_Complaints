{
 "cells": [
  {
   "cell_type": "markdown",
   "metadata": {},
   "source": [
    "# Build a classifier that categorizes customer complaints"
   ]
  },
  {
   "cell_type": "markdown",
   "metadata": {},
   "source": [
    "# Getting accuracy for Numerical features:-"
   ]
  },
  {
   "cell_type": "code",
   "execution_count": null,
   "metadata": {},
   "outputs": [],
   "source": [
    "import pandas as pd\n",
    "original_data=pd.read_csv(\"C:\\Users\\91996\\Desktop\\ML\\Cust_complaints\\complaints.csv\")"
   ]
  },
  {
   "cell_type": "code",
   "execution_count": 2,
   "metadata": {},
   "outputs": [],
   "source": [
    "numeric_dataset1=pd.DataFrame()\n",
    "original_data['Date received']=pd.to_datetime(original_data['Date received'])\n",
    "\n",
    "numeric_dataset1['month']=list(original_data['Date received'].dt.month)\n",
    "numeric_dataset1['day']=list(original_data['Date received'].dt.day)\n",
    "numeric_dataset1['dayofweek']=list(original_data['Date received'].dt.dayofweek)\n",
    "numeric_dataset1['quarter']=list(original_data['Date received'].dt.quarter)"
   ]
  },
  {
   "cell_type": "code",
   "execution_count": 3,
   "metadata": {},
   "outputs": [],
   "source": [
    "company_dict=dict(original_data['Company'].value_counts())\n",
    "original_data.loc[:, \"Company\"] = original_data.Company.map(company_dict)\n",
    "numeric_dataset1['company']=list(original_data.Company)\n",
    "\n",
    "original_data.State=original_data.State.fillna(\"Unknown State\")\n",
    "state_dict=dict(original_data['State'].value_counts())\n",
    "original_data.loc[:, \"State\"] = original_data.State.map(state_dict)\n",
    "numeric_dataset1['state']=list(original_data.State)\n",
    "\n",
    "\n",
    "original_data['ZIP code']=original_data['ZIP code'].fillna(\"Unknown zipcode\")\n",
    "zip_dict=dict(original_data['ZIP code'].value_counts())\n",
    "original_data.loc[:, \"ZIP code\"] = original_data['ZIP code'].map(zip_dict)\n",
    "numeric_dataset1['ZIP code']=list(original_data['ZIP code'])"
   ]
  },
  {
   "cell_type": "code",
   "execution_count": 4,
   "metadata": {},
   "outputs": [],
   "source": [
    "original_data['Tags']=original_data['Tags'].fillna('No Tags given')\n",
    "original_data['Consumer consent provided?']=original_data['Consumer consent provided?'].fillna(\"No Consent information\")"
   ]
  },
  {
   "cell_type": "code",
   "execution_count": 5,
   "metadata": {},
   "outputs": [],
   "source": [
    "state_dict=dict(original_data['Tags'].value_counts())\n",
    "original_data.loc[:, \"Tags\"] = original_data.State.map(state_dict)\n",
    "numeric_dataset1['Tags']=list(original_data.Tags)\n",
    "\n",
    "state_dict=dict(original_data['Consumer consent provided?'].value_counts())\n",
    "original_data.loc[:, \"Consumer consent provided?\"] = original_data.State.map(state_dict)\n",
    "numeric_dataset1['Consumer consent provided?']=list(original_data['Consumer consent provided?'])"
   ]
  },
  {
   "cell_type": "code",
   "execution_count": 6,
   "metadata": {},
   "outputs": [],
   "source": [
    "\n",
    "prod_dict=dict(original_data['Product'].value_counts())\n",
    "original_data.loc[:, \"Product\"] = original_data.Product.map(prod_dict)\n",
    "numeric_dataset1['Product']=list(original_data.Product)"
   ]
  },
  {
   "cell_type": "code",
   "execution_count": 7,
   "metadata": {},
   "outputs": [],
   "source": [
    "\n",
    "prod_dict=dict(original_data['Product'].value_counts())\n",
    "original_data.loc[:, \"Product\"] = original_data.Product.map(prod_dict)\n",
    "numeric_dataset1['Product']=list(original_data.Product)"
   ]
  },
  {
   "cell_type": "code",
   "execution_count": 8,
   "metadata": {},
   "outputs": [],
   "source": [
    "original_data['Sub-product']=original_data['Sub-product'].fillna(\"No_sub_product\")\n",
    "\n",
    "subprod_dict=dict(original_data['Sub-product'].value_counts())\n",
    "original_data.loc[:, \"Sub-product\"] = original_data['Sub-product'].map(subprod_dict)\n",
    "numeric_dataset1['Sub-product']=list(original_data['Sub-product'])"
   ]
  },
  {
   "cell_type": "code",
   "execution_count": 9,
   "metadata": {},
   "outputs": [],
   "source": [
    "original_data['Tags']=original_data['Tags'].fillna(\"No_tags\")\n",
    "\n",
    "tags_dict=dict(original_data['Tags'].value_counts())\n",
    "original_data.loc[:, \"Tags\"] = original_data['Tags'].map(tags_dict)\n",
    "numeric_dataset1['Tags']=list(original_data['Tags'])"
   ]
  },
  {
   "cell_type": "code",
   "execution_count": 10,
   "metadata": {},
   "outputs": [],
   "source": [
    "original_data['Tags']=original_data['Tags'].fillna(\"No_tags\")\n",
    "\n",
    "tags_dict=dict(original_data['Tags'].value_counts())\n",
    "original_data.loc[:, \"Tags\"] = original_data['Tags'].map(tags_dict)\n",
    "numeric_dataset1['Tags']=list(original_data['Tags'])"
   ]
  },
  {
   "cell_type": "code",
   "execution_count": 11,
   "metadata": {},
   "outputs": [],
   "source": [
    "original_data['Date sent to company']=pd.to_datetime(original_data['Date sent to company'])\n",
    "numeric_dataset1['month_submitted']=list(original_data['Date sent to company'].dt.month)\n",
    "numeric_dataset1['day_submitted']=list(original_data['Date sent to company'].dt.day)\n",
    "numeric_dataset1['dayofweek_submitted']=list(original_data['Date sent to company'].dt.dayofweek)\n",
    "numeric_dataset1['quarter_submitted']=list(original_data['Date sent to company'].dt.quarter)\n"
   ]
  },
  {
   "cell_type": "code",
   "execution_count": 12,
   "metadata": {},
   "outputs": [],
   "source": [
    "\n",
    "original_data['Consumer consent provided?']=original_data['Consumer consent provided?'].fillna(\"No_consent_information\")\n",
    "\n",
    "consent_dict=dict(original_data['Consumer consent provided?'].value_counts())\n",
    "original_data.loc[:, \"Consumer consent provided?\"] = original_data['Consumer consent provided?'].map(consent_dict)\n",
    "numeric_dataset1['Consumer consent provided?']=list(original_data['Consumer consent provided?'])\n"
   ]
  },
  {
   "cell_type": "code",
   "execution_count": 13,
   "metadata": {},
   "outputs": [],
   "source": [
    "\n",
    "\n",
    "original_data['Submitted via']=original_data['Submitted via'].fillna(\"No_device_information\")\n",
    "\n",
    "device_dict=dict(original_data['Submitted via'].value_counts())\n",
    "original_data.loc[:, \"Submitted via\"] = original_data['Submitted via'].map(device_dict)\n",
    "numeric_dataset1['Submitted via']=list(original_data['Submitted via'])"
   ]
  },
  {
   "cell_type": "code",
   "execution_count": 14,
   "metadata": {},
   "outputs": [
    {
     "data": {
      "text/html": [
       "<div>\n",
       "<style scoped>\n",
       "    .dataframe tbody tr th:only-of-type {\n",
       "        vertical-align: middle;\n",
       "    }\n",
       "\n",
       "    .dataframe tbody tr th {\n",
       "        vertical-align: top;\n",
       "    }\n",
       "\n",
       "    .dataframe thead th {\n",
       "        text-align: right;\n",
       "    }\n",
       "</style>\n",
       "<table border=\"1\" class=\"dataframe\">\n",
       "  <thead>\n",
       "    <tr style=\"text-align: right;\">\n",
       "      <th></th>\n",
       "      <th>month</th>\n",
       "      <th>day</th>\n",
       "      <th>dayofweek</th>\n",
       "      <th>quarter</th>\n",
       "      <th>company</th>\n",
       "      <th>state</th>\n",
       "      <th>ZIP code</th>\n",
       "      <th>Tags</th>\n",
       "      <th>Consumer consent provided?</th>\n",
       "      <th>Product</th>\n",
       "      <th>Sub-product</th>\n",
       "      <th>month_submitted</th>\n",
       "      <th>day_submitted</th>\n",
       "      <th>dayofweek_submitted</th>\n",
       "      <th>quarter_submitted</th>\n",
       "      <th>Submitted via</th>\n",
       "    </tr>\n",
       "  </thead>\n",
       "  <tbody>\n",
       "    <tr>\n",
       "      <th>0</th>\n",
       "      <td>6</td>\n",
       "      <td>13</td>\n",
       "      <td>3</td>\n",
       "      <td>2</td>\n",
       "      <td>56365</td>\n",
       "      <td>85874</td>\n",
       "      <td>443</td>\n",
       "      <td>2196206</td>\n",
       "      <td>2196206</td>\n",
       "      <td>780195</td>\n",
       "      <td>770670</td>\n",
       "      <td>6</td>\n",
       "      <td>13</td>\n",
       "      <td>3</td>\n",
       "      <td>2</td>\n",
       "      <td>1756607</td>\n",
       "    </tr>\n",
       "    <tr>\n",
       "      <th>1</th>\n",
       "      <td>4</td>\n",
       "      <td>1</td>\n",
       "      <td>0</td>\n",
       "      <td>2</td>\n",
       "      <td>249490</td>\n",
       "      <td>85874</td>\n",
       "      <td>211</td>\n",
       "      <td>2196206</td>\n",
       "      <td>2196206</td>\n",
       "      <td>780195</td>\n",
       "      <td>770670</td>\n",
       "      <td>4</td>\n",
       "      <td>1</td>\n",
       "      <td>0</td>\n",
       "      <td>2</td>\n",
       "      <td>1756607</td>\n",
       "    </tr>\n",
       "    <tr>\n",
       "      <th>2</th>\n",
       "      <td>9</td>\n",
       "      <td>3</td>\n",
       "      <td>1</td>\n",
       "      <td>3</td>\n",
       "      <td>1012</td>\n",
       "      <td>40176</td>\n",
       "      <td>373</td>\n",
       "      <td>2196206</td>\n",
       "      <td>2196206</td>\n",
       "      <td>368871</td>\n",
       "      <td>62596</td>\n",
       "      <td>9</td>\n",
       "      <td>5</td>\n",
       "      <td>3</td>\n",
       "      <td>3</td>\n",
       "      <td>80368</td>\n",
       "    </tr>\n",
       "    <tr>\n",
       "      <th>3</th>\n",
       "      <td>6</td>\n",
       "      <td>16</td>\n",
       "      <td>2</td>\n",
       "      <td>2</td>\n",
       "      <td>249490</td>\n",
       "      <td>29240</td>\n",
       "      <td>7753</td>\n",
       "      <td>2196206</td>\n",
       "      <td>2196206</td>\n",
       "      <td>780195</td>\n",
       "      <td>770670</td>\n",
       "      <td>6</td>\n",
       "      <td>16</td>\n",
       "      <td>2</td>\n",
       "      <td>2</td>\n",
       "      <td>1756607</td>\n",
       "    </tr>\n",
       "    <tr>\n",
       "      <th>4</th>\n",
       "      <td>6</td>\n",
       "      <td>16</td>\n",
       "      <td>2</td>\n",
       "      <td>2</td>\n",
       "      <td>249490</td>\n",
       "      <td>237973</td>\n",
       "      <td>9207</td>\n",
       "      <td>2196206</td>\n",
       "      <td>2196206</td>\n",
       "      <td>780195</td>\n",
       "      <td>770670</td>\n",
       "      <td>6</td>\n",
       "      <td>16</td>\n",
       "      <td>2</td>\n",
       "      <td>2</td>\n",
       "      <td>1756607</td>\n",
       "    </tr>\n",
       "    <tr>\n",
       "      <th>...</th>\n",
       "      <td>...</td>\n",
       "      <td>...</td>\n",
       "      <td>...</td>\n",
       "      <td>...</td>\n",
       "      <td>...</td>\n",
       "      <td>...</td>\n",
       "      <td>...</td>\n",
       "      <td>...</td>\n",
       "      <td>...</td>\n",
       "      <td>...</td>\n",
       "      <td>...</td>\n",
       "      <td>...</td>\n",
       "      <td>...</td>\n",
       "      <td>...</td>\n",
       "      <td>...</td>\n",
       "      <td>...</td>\n",
       "    </tr>\n",
       "    <tr>\n",
       "      <th>2196201</th>\n",
       "      <td>2</td>\n",
       "      <td>9</td>\n",
       "      <td>3</td>\n",
       "      <td>1</td>\n",
       "      <td>246</td>\n",
       "      <td>14361</td>\n",
       "      <td>215935</td>\n",
       "      <td>2196206</td>\n",
       "      <td>2196206</td>\n",
       "      <td>368871</td>\n",
       "      <td>78497</td>\n",
       "      <td>2</td>\n",
       "      <td>9</td>\n",
       "      <td>3</td>\n",
       "      <td>1</td>\n",
       "      <td>1756607</td>\n",
       "    </tr>\n",
       "    <tr>\n",
       "      <th>2196202</th>\n",
       "      <td>4</td>\n",
       "      <td>29</td>\n",
       "      <td>2</td>\n",
       "      <td>2</td>\n",
       "      <td>67782</td>\n",
       "      <td>12393</td>\n",
       "      <td>801</td>\n",
       "      <td>2196206</td>\n",
       "      <td>2196206</td>\n",
       "      <td>333515</td>\n",
       "      <td>70613</td>\n",
       "      <td>4</td>\n",
       "      <td>29</td>\n",
       "      <td>2</td>\n",
       "      <td>2</td>\n",
       "      <td>1756607</td>\n",
       "    </tr>\n",
       "    <tr>\n",
       "      <th>2196203</th>\n",
       "      <td>3</td>\n",
       "      <td>31</td>\n",
       "      <td>4</td>\n",
       "      <td>1</td>\n",
       "      <td>239876</td>\n",
       "      <td>20196</td>\n",
       "      <td>2011</td>\n",
       "      <td>2196206</td>\n",
       "      <td>2196206</td>\n",
       "      <td>140432</td>\n",
       "      <td>235165</td>\n",
       "      <td>3</td>\n",
       "      <td>31</td>\n",
       "      <td>4</td>\n",
       "      <td>1</td>\n",
       "      <td>1756607</td>\n",
       "    </tr>\n",
       "    <tr>\n",
       "      <th>2196204</th>\n",
       "      <td>1</td>\n",
       "      <td>16</td>\n",
       "      <td>0</td>\n",
       "      <td>1</td>\n",
       "      <td>249490</td>\n",
       "      <td>124065</td>\n",
       "      <td>7458</td>\n",
       "      <td>2196206</td>\n",
       "      <td>2196206</td>\n",
       "      <td>140432</td>\n",
       "      <td>235165</td>\n",
       "      <td>1</td>\n",
       "      <td>16</td>\n",
       "      <td>0</td>\n",
       "      <td>1</td>\n",
       "      <td>1756607</td>\n",
       "    </tr>\n",
       "    <tr>\n",
       "      <th>2196205</th>\n",
       "      <td>3</td>\n",
       "      <td>7</td>\n",
       "      <td>2</td>\n",
       "      <td>1</td>\n",
       "      <td>87982</td>\n",
       "      <td>285340</td>\n",
       "      <td>323</td>\n",
       "      <td>2196206</td>\n",
       "      <td>2196206</td>\n",
       "      <td>333515</td>\n",
       "      <td>12810</td>\n",
       "      <td>3</td>\n",
       "      <td>8</td>\n",
       "      <td>3</td>\n",
       "      <td>1</td>\n",
       "      <td>215095</td>\n",
       "    </tr>\n",
       "  </tbody>\n",
       "</table>\n",
       "<p>2196206 rows × 16 columns</p>\n",
       "</div>"
      ],
      "text/plain": [
       "         month  day  dayofweek  quarter  company   state  ZIP code     Tags  \\\n",
       "0            6   13          3        2    56365   85874       443  2196206   \n",
       "1            4    1          0        2   249490   85874       211  2196206   \n",
       "2            9    3          1        3     1012   40176       373  2196206   \n",
       "3            6   16          2        2   249490   29240      7753  2196206   \n",
       "4            6   16          2        2   249490  237973      9207  2196206   \n",
       "...        ...  ...        ...      ...      ...     ...       ...      ...   \n",
       "2196201      2    9          3        1      246   14361    215935  2196206   \n",
       "2196202      4   29          2        2    67782   12393       801  2196206   \n",
       "2196203      3   31          4        1   239876   20196      2011  2196206   \n",
       "2196204      1   16          0        1   249490  124065      7458  2196206   \n",
       "2196205      3    7          2        1    87982  285340       323  2196206   \n",
       "\n",
       "         Consumer consent provided?  Product  Sub-product  month_submitted  \\\n",
       "0                           2196206   780195       770670                6   \n",
       "1                           2196206   780195       770670                4   \n",
       "2                           2196206   368871        62596                9   \n",
       "3                           2196206   780195       770670                6   \n",
       "4                           2196206   780195       770670                6   \n",
       "...                             ...      ...          ...              ...   \n",
       "2196201                     2196206   368871        78497                2   \n",
       "2196202                     2196206   333515        70613                4   \n",
       "2196203                     2196206   140432       235165                3   \n",
       "2196204                     2196206   140432       235165                1   \n",
       "2196205                     2196206   333515        12810                3   \n",
       "\n",
       "         day_submitted  dayofweek_submitted  quarter_submitted  Submitted via  \n",
       "0                   13                    3                  2        1756607  \n",
       "1                    1                    0                  2        1756607  \n",
       "2                    5                    3                  3          80368  \n",
       "3                   16                    2                  2        1756607  \n",
       "4                   16                    2                  2        1756607  \n",
       "...                ...                  ...                ...            ...  \n",
       "2196201              9                    3                  1        1756607  \n",
       "2196202             29                    2                  2        1756607  \n",
       "2196203             31                    4                  1        1756607  \n",
       "2196204             16                    0                  1        1756607  \n",
       "2196205              8                    3                  1         215095  \n",
       "\n",
       "[2196206 rows x 16 columns]"
      ]
     },
     "execution_count": 14,
     "metadata": {},
     "output_type": "execute_result"
    }
   ],
   "source": [
    "numeric_dataset1"
   ]
  },
  {
   "cell_type": "markdown",
   "metadata": {},
   "source": [
    "# Scaling the features:-\n"
   ]
  },
  {
   "cell_type": "code",
   "execution_count": 15,
   "metadata": {},
   "outputs": [],
   "source": [
    "from tensorflow.keras.utils import to_categorical\n",
    "unique_y=(original_data.Issue.unique())\n",
    "import numpy as np\n",
    "mapping_target={}\n",
    "for i in enumerate(unique_y):\n",
    "    mapping_target.update({i[1]:i[0]})\n",
    "\n",
    "\n",
    "original_data.loc[:,\"Issue\"]=original_data.Issue.map(mapping_target)\n",
    "y=to_categorical(original_data.Issue)"
   ]
  },
  {
   "cell_type": "code",
   "execution_count": 16,
   "metadata": {},
   "outputs": [],
   "source": [
    "y=y[:1000000]\n"
   ]
  },
  {
   "cell_type": "markdown",
   "metadata": {},
   "source": [
    "# Reducing the data"
   ]
  },
  {
   "cell_type": "code",
   "execution_count": 17,
   "metadata": {},
   "outputs": [
    {
     "data": {
      "text/plain": [
       "(1000000, 16)"
      ]
     },
     "execution_count": 17,
     "metadata": {},
     "output_type": "execute_result"
    }
   ],
   "source": [
    "\n",
    "numeric_dataset1=numeric_dataset1[:1000000]\n",
    "numeric_dataset1.shape"
   ]
  },
  {
   "cell_type": "code",
   "execution_count": 87,
   "metadata": {},
   "outputs": [],
   "source": [
    "\n",
    "\n",
    "from sklearn.model_selection import train_test_split\n",
    "X_train, X_test, y_train, y_test = train_test_split(\n",
    "numeric_dataset1, y, test_size=0.20, random_state=42)"
   ]
  },
  {
   "cell_type": "code",
   "execution_count": 88,
   "metadata": {},
   "outputs": [],
   "source": [
    "from sklearn.preprocessing import StandardScaler\n",
    "sc = StandardScaler()\n",
    "X_train = sc.fit_transform(X_train)\n",
    "X_test = sc.transform (X_test)"
   ]
  },
  {
   "cell_type": "code",
   "execution_count": 89,
   "metadata": {},
   "outputs": [
    {
     "data": {
      "text/plain": [
       "(1756964, 16)"
      ]
     },
     "execution_count": 89,
     "metadata": {},
     "output_type": "execute_result"
    }
   ],
   "source": [
    "X_train.shape"
   ]
  },
  {
   "cell_type": "code",
   "execution_count": 20,
   "metadata": {},
   "outputs": [],
   "source": [
    "from sklearn.ensemble import *\n",
    "from sklearn.metrics import *\n",
    "from mlxtend.feature_selection import SequentialFeatureSelector as SFS"
   ]
  },
  {
   "cell_type": "code",
   "execution_count": 21,
   "metadata": {},
   "outputs": [],
   "source": [
    "from sklearn.ensemble import  RandomForestClassifier\n",
    "rf= RandomForestClassifier(bootstrap=True,n_jobs=-1,verbose=3)"
   ]
  },
  {
   "cell_type": "code",
   "execution_count": 22,
   "metadata": {},
   "outputs": [
    {
     "name": "stderr",
     "output_type": "stream",
     "text": [
      "[Parallel(n_jobs=-1)]: Using backend ThreadingBackend with 8 concurrent workers.\n"
     ]
    },
    {
     "name": "stdout",
     "output_type": "stream",
     "text": [
      "building tree 1 of 100\n",
      "building tree 2 of 100\n",
      "building tree 3 of 100\n",
      "building tree 4 of 100\n",
      "building tree 5 of 100\n",
      "building tree 6 of 100\n",
      "building tree 7 of 100\n",
      "building tree 8 of 100\n",
      "building tree 9 of 100\n",
      "building tree 10 of 100\n",
      "building tree 11 of 100\n",
      "building tree 12 of 100\n",
      "building tree 13 of 100\n",
      "building tree 14 of 100\n",
      "building tree 15 of 100building tree 16 of 100\n",
      "\n",
      "building tree 17 of 100building tree 18 of 100\n",
      "\n",
      "building tree 19 of 100\n",
      "building tree 20 of 100\n",
      "building tree 21 of 100\n",
      "building tree 22 of 100\n",
      "building tree 23 of 100\n",
      "building tree 24 of 100\n",
      "building tree 25 of 100\n"
     ]
    },
    {
     "name": "stderr",
     "output_type": "stream",
     "text": [
      "[Parallel(n_jobs=-1)]: Done  16 tasks      | elapsed:   13.0s\n"
     ]
    },
    {
     "name": "stdout",
     "output_type": "stream",
     "text": [
      "building tree 26 of 100\n",
      "building tree 27 of 100\n",
      "building tree 28 of 100\n",
      "building tree 29 of 100\n",
      "building tree 30 of 100\n",
      "building tree 31 of 100\n",
      "building tree 32 of 100\n",
      "building tree 33 of 100\n",
      "building tree 34 of 100\n",
      "building tree 35 of 100\n",
      "building tree 36 of 100\n",
      "building tree 37 of 100\n",
      "building tree 38 of 100\n",
      "building tree 39 of 100\n",
      "building tree 40 of 100\n",
      "building tree 41 of 100\n",
      "building tree 42 of 100\n",
      "building tree 43 of 100\n",
      "building tree 44 of 100\n",
      "building tree 45 of 100\n",
      "building tree 46 of 100\n",
      "building tree 47 of 100\n",
      "building tree 48 of 100\n",
      "building tree 49 of 100\n",
      "building tree 50 of 100\n",
      "building tree 51 of 100\n",
      "building tree 52 of 100\n",
      "building tree 53 of 100building tree 54 of 100\n",
      "\n",
      "building tree 55 of 100\n",
      "building tree 56 of 100building tree 57 of 100\n",
      "\n",
      "building tree 58 of 100\n",
      "building tree 59 of 100\n",
      "building tree 60 of 100\n",
      "building tree 61 of 100\n",
      "building tree 62 of 100\n",
      "building tree 63 of 100\n",
      "building tree 64 of 100\n",
      "building tree 65 of 100\n",
      "building tree 66 of 100\n",
      "building tree 67 of 100\n",
      "building tree 68 of 100\n",
      "building tree 69 of 100\n",
      "building tree 70 of 100\n",
      "building tree 71 of 100\n",
      "building tree 72 of 100\n",
      "building tree 73 of 100\n",
      "building tree 74 of 100\n",
      "building tree 75 of 100\n",
      "building tree 76 of 100\n",
      "building tree 77 of 100\n",
      "building tree 78 of 100\n",
      "building tree 79 of 100\n",
      "building tree 80 of 100\n",
      "building tree 81 of 100\n",
      "building tree 82 of 100\n",
      "building tree 83 of 100\n",
      "building tree 84 of 100\n",
      "building tree 85 of 100\n",
      "building tree 86 of 100\n",
      "building tree 87 of 100\n",
      "building tree 88 of 100\n",
      "building tree 89 of 100\n",
      "building tree 90 of 100\n",
      "building tree 91 of 100\n",
      "building tree 92 of 100\n",
      "building tree 93 of 100\n",
      "building tree 94 of 100building tree 95 of 100\n",
      "\n",
      "building tree 96 of 100\n",
      "building tree 97 of 100building tree 98 of 100\n",
      "\n",
      "building tree 99 of 100\n",
      "building tree 100 of 100\n"
     ]
    },
    {
     "name": "stderr",
     "output_type": "stream",
     "text": [
      "[Parallel(n_jobs=-1)]: Done 100 out of 100 | elapsed:   59.3s finished\n"
     ]
    }
   ],
   "source": [
    "model1=rf.fit(X_train,y_train)"
   ]
  },
  {
   "cell_type": "code",
   "execution_count": 27,
   "metadata": {},
   "outputs": [
    {
     "data": {
      "text/plain": [
       "array([0.030233  , 0.08072312, 0.04665692, 0.01006974, 0.11690087,\n",
       "       0.11247838, 0.16863491, 0.        , 0.        , 0.13277007,\n",
       "       0.11743528, 0.030932  , 0.08045544, 0.04597543, 0.0101136 ,\n",
       "       0.01662123])"
      ]
     },
     "execution_count": 27,
     "metadata": {},
     "output_type": "execute_result"
    }
   ],
   "source": [
    "model1.feature_importances_"
   ]
  },
  {
   "cell_type": "code",
   "execution_count": 31,
   "metadata": {},
   "outputs": [
    {
     "data": {
      "text/plain": [
       "Text(0.5, 0, 'Random Forest Feature Importance')"
      ]
     },
     "execution_count": 31,
     "metadata": {},
     "output_type": "execute_result"
    },
    {
     "data": {
      "image/png": "[encoded data removed]",
      "text/plain": [
       "<Figure size 432x288 with 1 Axes>"
      ]
     },
     "metadata": {
      "needs_background": "light"
     },
     "output_type": "display_data"
    }
   ],
   "source": [
    "import matplotlib.pyplot as plt\n",
    "sorted_idx = model1.feature_importances_.argsort()\n",
    "plt.barh(numeric_dataset1.columns[sorted_idx], model1.feature_importances_[sorted_idx])\n",
    "plt.xlabel(\"Random Forest Feature Importance\")"
   ]
  },
  {
   "cell_type": "markdown",
   "metadata": {},
   "source": [
    "# Selecting top 10 features :-"
   ]
  },
  {
   "cell_type": "code",
   "execution_count": 18,
   "metadata": {},
   "outputs": [],
   "source": [
    "X_train1=numeric_dataset1[[ 'day', 'dayofweek', 'company', 'state', 'ZIP code',\n",
    "         'Product', 'Sub-product',\n",
    "        'day_submitted', 'dayofweek_submitted',\n",
    "        ]]"
   ]
  },
  {
   "cell_type": "code",
   "execution_count": 19,
   "metadata": {},
   "outputs": [],
   "source": [
    "from sklearn.model_selection import train_test_split\n",
    "X_train_new, X_test_new, y_train, y_test = train_test_split(\n",
    "X_train1, y, test_size=0.20, random_state=42)"
   ]
  },
  {
   "cell_type": "code",
   "execution_count": 168,
   "metadata": {},
   "outputs": [
    {
     "data": {
      "text/plain": [
       "(800000, 9)"
      ]
     },
     "execution_count": 168,
     "metadata": {},
     "output_type": "execute_result"
    }
   ],
   "source": [
    "X_train_new.shape"
   ]
  },
  {
   "cell_type": "code",
   "execution_count": 21,
   "metadata": {},
   "outputs": [],
   "source": [
    "from sklearn.preprocessing import StandardScaler\n",
    "sc = StandardScaler()\n",
    "X_train_new = sc.fit_transform(X_train_new)\n",
    "X_test_new= sc.transform (X_test_new)"
   ]
  },
  {
   "cell_type": "code",
   "execution_count": 45,
   "metadata": {},
   "outputs": [],
   "source": [
    "import tensorflow\n",
    "initializer = tensorflow.keras.initializers.GlorotUniform()\n",
    "initializer1 = tensorflow.keras.initializers.HeUniform()\n",
    "kernel_regularizer=tensorflow.keras.regularizers.l1_l2(l1=0.01, l2=0.01)\n",
    "activity_regularizer=tensorflow.keras.regularizers.l1_l2(l1=0.01, l2=0.01)"
   ]
  },
  {
   "cell_type": "code",
   "execution_count": 59,
   "metadata": {},
   "outputs": [],
   "source": [
    "from tensorflow.keras.layers import *\n",
    "from tensorflow.keras.models import *\n",
    "numerical_input = Input(shape=(9,))\n",
    "dense_layer_1 = Dense(150, activation='relu')(numerical_input)\n",
    "dense_layer_2 = Dense(300, activation='relu')(dense_layer_1)\n",
    "dense_layer_3 = Dense(500, activation='relu')(dense_layer_1)\n",
    "output = Dense(165, activation='softmax')(dense_layer_2)"
   ]
  },
  {
   "cell_type": "code",
   "execution_count": 60,
   "metadata": {},
   "outputs": [],
   "source": [
    "model = Model(inputs=numerical_input, outputs=output)\n",
    "model.compile(loss='categorical_crossentropy', optimizer='adam', metrics=['acc'])"
   ]
  },
  {
   "cell_type": "code",
   "execution_count": 61,
   "metadata": {},
   "outputs": [
    {
     "name": "stdout",
     "output_type": "stream",
     "text": [
      "Model: \"functional_13\"\n",
      "_________________________________________________________________\n",
      "Layer (type)                 Output Shape              Param #   \n",
      "=================================================================\n",
      "input_9 (InputLayer)         [(None, 9)]               0         \n",
      "_________________________________________________________________\n",
      "dense_24 (Dense)             (None, 150)               1500      \n",
      "_________________________________________________________________\n",
      "dense_25 (Dense)             (None, 300)               45300     \n",
      "_________________________________________________________________\n",
      "dense_27 (Dense)             (None, 165)               49665     \n",
      "=================================================================\n",
      "Total params: 96,465\n",
      "Trainable params: 96,465\n",
      "Non-trainable params: 0\n",
      "_________________________________________________________________\n"
     ]
    }
   ],
   "source": [
    "model.summary()"
   ]
  },
  {
   "cell_type": "code",
   "execution_count": 62,
   "metadata": {},
   "outputs": [
    {
     "name": "stdout",
     "output_type": "stream",
     "text": [
      "Epoch 1/20\n",
      " 978/1000 [============================>.] - ETA: 0s - loss: 2.1516 - acc: 0.3983WARNING:tensorflow:Callbacks method `on_test_batch_end` is slow compared to the batch time (batch time: 0.0000s vs `on_test_batch_end` time: 0.0010s). Check your callbacks.\n",
      "1000/1000 [==============================] - 5s 5ms/step - loss: 2.1453 - acc: 0.3992 - val_loss: 1.8514 - val_acc: 0.4448\n",
      "Epoch 2/20\n",
      "1000/1000 [==============================] - 5s 5ms/step - loss: 1.7678 - acc: 0.4492 - val_loss: 1.6938 - val_acc: 0.4508\n",
      "Epoch 3/20\n",
      "1000/1000 [==============================] - 5s 5ms/step - loss: 1.6589 - acc: 0.4667 - val_loss: 1.6320 - val_acc: 0.4710\n",
      "Epoch 4/20\n",
      "1000/1000 [==============================] - 5s 5ms/step - loss: 1.6190 - acc: 0.4684 - val_loss: 1.5923 - val_acc: 0.4725\n",
      "Epoch 5/20\n",
      "1000/1000 [==============================] - 5s 5ms/step - loss: 1.5807 - acc: 0.4764 - val_loss: 1.5631 - val_acc: 0.4763\n",
      "Epoch 6/20\n",
      "1000/1000 [==============================] - 5s 5ms/step - loss: 1.5484 - acc: 0.4794 - val_loss: 1.5550 - val_acc: 0.4797\n",
      "Epoch 7/20\n",
      "1000/1000 [==============================] - 5s 5ms/step - loss: 1.5469 - acc: 0.4796 - val_loss: 1.5355 - val_acc: 0.4850\n",
      "Epoch 8/20\n",
      "1000/1000 [==============================] - 5s 5ms/step - loss: 1.5264 - acc: 0.4809 - val_loss: 1.5319 - val_acc: 0.4769\n",
      "Epoch 9/20\n",
      "1000/1000 [==============================] - 5s 5ms/step - loss: 1.5051 - acc: 0.4873 - val_loss: 1.5106 - val_acc: 0.4847\n",
      "Epoch 10/20\n",
      "1000/1000 [==============================] - 6s 6ms/step - loss: 1.4928 - acc: 0.4895 - val_loss: 1.4842 - val_acc: 0.4913\n",
      "Epoch 11/20\n",
      "1000/1000 [==============================] - 5s 5ms/step - loss: 1.4828 - acc: 0.4900 - val_loss: 1.4796 - val_acc: 0.4927\n",
      "Epoch 12/20\n",
      "1000/1000 [==============================] - 5s 5ms/step - loss: 1.4756 - acc: 0.4910 - val_loss: 1.4716 - val_acc: 0.4937\n",
      "Epoch 13/20\n",
      "1000/1000 [==============================] - 5s 5ms/step - loss: 1.4648 - acc: 0.4944 - val_loss: 1.4687 - val_acc: 0.4938\n",
      "Epoch 14/20\n",
      "1000/1000 [==============================] - 5s 5ms/step - loss: 1.4550 - acc: 0.4992 - val_loss: 1.4651 - val_acc: 0.4955\n",
      "Epoch 15/20\n",
      "1000/1000 [==============================] - 5s 5ms/step - loss: 1.4534 - acc: 0.4943 - val_loss: 1.4400 - val_acc: 0.5017\n",
      "Epoch 16/20\n",
      "1000/1000 [==============================] - 5s 5ms/step - loss: 1.4452 - acc: 0.4959 - val_loss: 1.4350 - val_acc: 0.5023\n",
      "Epoch 17/20\n",
      "1000/1000 [==============================] - 5s 5ms/step - loss: 1.4268 - acc: 0.5027 - val_loss: 1.4334 - val_acc: 0.5001\n",
      "Epoch 18/20\n",
      "1000/1000 [==============================] - 5s 5ms/step - loss: 1.4291 - acc: 0.5003 - val_loss: 1.4370 - val_acc: 0.5002\n",
      "Epoch 19/20\n",
      "1000/1000 [==============================] - 5s 5ms/step - loss: 1.4217 - acc: 0.5039 - val_loss: 1.4173 - val_acc: 0.5035\n",
      "Epoch 20/20\n",
      "1000/1000 [==============================] - 5s 5ms/step - loss: 1.4175 - acc: 0.5035 - val_loss: 1.4295 - val_acc: 0.4999\n"
     ]
    }
   ],
   "source": [
    "history_numerical = model.fit(X_train_new, y_train, batch_size=80, epochs=20, steps_per_epoch=1000,verbose=1, validation_split=0.2)"
   ]
  },
  {
   "cell_type": "code",
   "execution_count": 63,
   "metadata": {},
   "outputs": [
    {
     "data": {
      "image/png": "[encoded data removed]",
      "text/plain": [
       "<Figure size 432x288 with 1 Axes>"
      ]
     },
     "metadata": {
      "needs_background": "light"
     },
     "output_type": "display_data"
    },
    {
     "data": {
      "image/png": "[encoded data removed]",
      "text/plain": [
       "<Figure size 432x288 with 1 Axes>"
      ]
     },
     "metadata": {
      "needs_background": "light"
     },
     "output_type": "display_data"
    }
   ],
   "source": [
    "import matplotlib.pyplot as plt\n",
    "\n",
    "plt.plot(history_numerical.history['acc'])\n",
    "plt.plot(history_numerical.history['val_acc'])\n",
    "\n",
    "plt.title('model accuracy')\n",
    "plt.ylabel('accuracy')\n",
    "plt.xlabel('epoch')\n",
    "plt.legend(['train','test'], loc='upper left')\n",
    "plt.show()\n",
    "\n",
    "plt.plot(history_numerical.history['loss'])\n",
    "plt.plot(history_numerical.history['val_loss'])\n",
    "\n",
    "plt.title('model loss')\n",
    "plt.ylabel('loss')\n",
    "plt.xlabel('epoch')\n",
    "plt.legend(['train','test'], loc='upper left')\n",
    "plt.show()"
   ]
  },
  {
   "cell_type": "markdown",
   "metadata": {},
   "source": [
    "#  Creating Text Model:-"
   ]
  },
  {
   "cell_type": "code",
   "execution_count": null,
   "metadata": {},
   "outputs": [],
   "source": [
    "import gensim\n",
    "we=gensim.models.KeyedVectors.load_word2vec_format(r\"C:\\Users\\91996\\Desktop\\ML\\Cust_complaints\\GoogleNews-vectors-negative300.bin\",binary=True)"
   ]
  },
  {
   "cell_type": "code",
   "execution_count": 99,
   "metadata": {},
   "outputs": [],
   "source": [
    "import re\n",
    "def preprocess_text(sen):\n",
    "\n",
    "    # Remove punctuations and numbers\n",
    "    sentence = re.sub('[^a-zA-Z]', ' ', sen)\n",
    "\n",
    "    # Single character removal\n",
    "    sentence = re.sub(r\"\\s+[a-zA-Z]\\s+\", ' ', sentence)\n",
    "\n",
    "    # Removing multiple spaces\n",
    "    sentence = re.sub(r'\\s+', ' ', sentence)\n",
    "\n",
    "    return sentence"
   ]
  },
  {
   "cell_type": "code",
   "execution_count": 93,
   "metadata": {},
   "outputs": [],
   "source": [
    "text_dataset=pd.DataFrame(data=list(original_data[:1000000]['Consumer complaint narrative']),columns=['Consumer Complaint'])"
   ]
  },
  {
   "cell_type": "code",
   "execution_count": 94,
   "metadata": {},
   "outputs": [
    {
     "data": {
      "text/plain": [
       "Consumer Complaint    637234\n",
       "dtype: int64"
      ]
     },
     "execution_count": 94,
     "metadata": {},
     "output_type": "execute_result"
    }
   ],
   "source": [
    "text_dataset.isna().sum()"
   ]
  },
  {
   "cell_type": "code",
   "execution_count": 96,
   "metadata": {},
   "outputs": [],
   "source": [
    "text_dataset['Consumer Complaint']=text_dataset['Consumer Complaint'].fillna(\"No consumer complaint noted\")"
   ]
  },
  {
   "cell_type": "code",
   "execution_count": 97,
   "metadata": {},
   "outputs": [
    {
     "data": {
      "text/plain": [
       "Consumer Complaint    0\n",
       "dtype: int64"
      ]
     },
     "execution_count": 97,
     "metadata": {},
     "output_type": "execute_result"
    }
   ],
   "source": [
    "text_dataset.isna().sum()"
   ]
  },
  {
   "cell_type": "code",
   "execution_count": 100,
   "metadata": {},
   "outputs": [],
   "source": [
    "X = []\n",
    "sentences = list(text_dataset[\"Consumer Complaint\"])\n",
    "for sen in sentences:\n",
    "    X.append(preprocess_text(sen))"
   ]
  },
  {
   "cell_type": "code",
   "execution_count": 106,
   "metadata": {},
   "outputs": [],
   "source": [
    "X_train, X_test, y_train, y_test = train_test_split(X, y, test_size=0.20, random_state=42)"
   ]
  },
  {
   "cell_type": "code",
   "execution_count": 108,
   "metadata": {},
   "outputs": [],
   "source": [
    "tokenizer = tensorflow.keras.preprocessing.text.Tokenizer(num_words=5000)\n",
    "tokenizer.fit_on_texts(X_train)\n"
   ]
  },
  {
   "cell_type": "code",
   "execution_count": 109,
   "metadata": {},
   "outputs": [],
   "source": [
    "X_train = tokenizer.texts_to_sequences(X_train)\n",
    "X_test = tokenizer.texts_to_sequences(X_test)"
   ]
  },
  {
   "cell_type": "code",
   "execution_count": 112,
   "metadata": {},
   "outputs": [],
   "source": [
    "sequences_length=[]\n",
    "for i in X_train:\n",
    "    sequences_length.append(len(i))"
   ]
  },
  {
   "cell_type": "code",
   "execution_count": 117,
   "metadata": {},
   "outputs": [
    {
     "name": "stdout",
     "output_type": "stream",
     "text": [
      "0 th percentile: 0.0\n",
      "10 th percentile: 4.0\n",
      "20 th percentile: 4.0\n",
      "30 th percentile: 4.0\n",
      "40 th percentile: 4.0\n",
      "50 th percentile: 4.0\n",
      "60 th percentile: 4.0\n",
      "70 th percentile: 52.0\n",
      "80 th percentile: 112.0\n",
      "90 th percentile: 210.0\n",
      "100 th percentile: 5381.0\n"
     ]
    }
   ],
   "source": [
    "for i in range(0,101,10):\n",
    "    print(str(i)+\" th percentile: \"+str(np.percentile(sequences_length,i)))"
   ]
  },
  {
   "cell_type": "code",
   "execution_count": 115,
   "metadata": {},
   "outputs": [
    {
     "name": "stdout",
     "output_type": "stream",
     "text": [
      "90 th percentile: 210.0\n",
      "91 th percentile: 224.0\n",
      "92 th percentile: 241.0\n",
      "93 th percentile: 260.0\n",
      "94 th percentile: 283.0\n",
      "95 th percentile: 311.0\n",
      "96 th percentile: 343.03999999992084\n",
      "97 th percentile: 385.0\n",
      "98 th percentile: 446.0\n",
      "99 th percentile: 588.0\n",
      "100 th percentile: 5381.0\n"
     ]
    }
   ],
   "source": [
    "for i in range(90,101,1):\n",
    "    print(str(i)+\" th percentile: \"+str(np.percentile(sequences_length,i)))"
   ]
  },
  {
   "cell_type": "code",
   "execution_count": 119,
   "metadata": {},
   "outputs": [],
   "source": [
    "\n",
    "vocab_size = len(tokenizer.word_index) + 1\n",
    "from tensorflow.keras.preprocessing.sequence import pad_sequences\n",
    "maxlen = 300\n",
    "\n",
    "X_train = pad_sequences(X_train, padding='post', maxlen=maxlen)\n",
    "X_test = pad_sequences(X_test, padding='post', maxlen=maxlen)"
   ]
  },
  {
   "cell_type": "code",
   "execution_count": 124,
   "metadata": {},
   "outputs": [],
   "source": [
    "embedding_dim=300\n",
    "skipped_nos=0\n",
    "emb_matrix=np.zeros((vocab_size,embedding_dim))\n",
    "\n",
    "\n",
    "\n",
    "for i,j in tokenizer.word_index.items():\n",
    "    try:\n",
    "        embedding_vector=we[i]\n",
    "    except:\n",
    "        skipped_nos+=1\n",
    "        pass\n",
    "    if embedding_vector is not None:\n",
    "        emb_matrix[j]=embedding_vector"
   ]
  },
  {
   "cell_type": "code",
   "execution_count": 142,
   "metadata": {},
   "outputs": [],
   "source": [
    "text_inputs = Input(shape=(maxlen,))\n",
    "embedding_layer = Embedding(vocab_size, 300, weights=[emb_matrix], trainable=False)(text_inputs)\n",
    "LSTM_Layer_1 = LSTM(128)(embedding_layer)\n",
    "dense_layer_1 = Dense(250, activation='relu')(LSTM_Layer_1)\n",
    "dense_layer_2 = Dense(165, activation='softmax')(dense_layer_1)\n",
    "model = Model(inputs=text_inputs, outputs=dense_layer_2)\n",
    "\n",
    "model.compile(loss='categorical_crossentropy', optimizer='adam', metrics=['acc'])"
   ]
  },
  {
   "cell_type": "code",
   "execution_count": 143,
   "metadata": {},
   "outputs": [
    {
     "name": "stdout",
     "output_type": "stream",
     "text": [
      "Model: \"functional_21\"\n",
      "_________________________________________________________________\n",
      "Layer (type)                 Output Shape              Param #   \n",
      "=================================================================\n",
      "input_14 (InputLayer)        [(None, 300)]             0         \n",
      "_________________________________________________________________\n",
      "embedding_4 (Embedding)      (None, 300, 300)          24312900  \n",
      "_________________________________________________________________\n",
      "lstm_5 (LSTM)                (None, 128)               219648    \n",
      "_________________________________________________________________\n",
      "dense_31 (Dense)             (None, 250)               32250     \n",
      "_________________________________________________________________\n",
      "dense_32 (Dense)             (None, 165)               41415     \n",
      "=================================================================\n",
      "Total params: 24,606,213\n",
      "Trainable params: 293,313\n",
      "Non-trainable params: 24,312,900\n",
      "_________________________________________________________________\n"
     ]
    }
   ],
   "source": [
    "model.summary()"
   ]
  },
  {
   "cell_type": "code",
   "execution_count": 144,
   "metadata": {
    "scrolled": true
   },
   "outputs": [
    {
     "name": "stdout",
     "output_type": "stream",
     "text": [
      "Epoch 1/20\n",
      "6250/6250 [==============================] - 580s 93ms/step - loss: 2.9390 - acc: 0.3018 - val_loss: 2.7454 - val_acc: 0.3373\n",
      "Epoch 2/20\n",
      "6250/6250 [==============================] - 714s 114ms/step - loss: 2.6649 - acc: 0.3601 - val_loss: 2.6337 - val_acc: 0.3683\n",
      "Epoch 3/20\n",
      "6250/6250 [==============================] - 768s 123ms/step - loss: 2.6043 - acc: 0.3764 - val_loss: 2.6062 - val_acc: 0.3747\n",
      "Epoch 4/20\n",
      "6250/6250 [==============================] - 778s 125ms/step - loss: 2.5741 - acc: 0.3851 - val_loss: 2.5953 - val_acc: 0.3788\n",
      "Epoch 5/20\n",
      "6250/6250 [==============================] - 631s 101ms/step - loss: 2.5503 - acc: 0.3918 - val_loss: 2.5863 - val_acc: 0.3833\n",
      "Epoch 6/20\n",
      "6250/6250 [==============================] - 790s 126ms/step - loss: 2.5325 - acc: 0.3962 - val_loss: 2.5868 - val_acc: 0.3838\n",
      "Epoch 7/20\n",
      "6250/6250 [==============================] - 821s 131ms/step - loss: 2.5142 - acc: 0.4017 - val_loss: 2.5872 - val_acc: 0.3847\n",
      "Epoch 8/20\n",
      "6250/6250 [==============================] - 776s 124ms/step - loss: 2.4970 - acc: 0.4060 - val_loss: 2.5892 - val_acc: 0.3857\n",
      "Epoch 9/20\n",
      "6250/6250 [==============================] - 757s 121ms/step - loss: 2.4767 - acc: 0.4125 - val_loss: 2.6086 - val_acc: 0.3856\n",
      "Epoch 10/20\n",
      "6250/6250 [==============================] - 745s 119ms/step - loss: 2.4594 - acc: 0.4166 - val_loss: 2.6180 - val_acc: 0.3863\n",
      "Epoch 11/20\n",
      "6250/6250 [==============================] - 745s 119ms/step - loss: 2.4497 - acc: 0.4206 - val_loss: 2.6389 - val_acc: 0.3843\n",
      "Epoch 12/20\n",
      "6250/6250 [==============================] - 758s 121ms/step - loss: 2.4367 - acc: 0.4243 - val_loss: 2.6234 - val_acc: 0.3855\n",
      "Epoch 13/20\n",
      "6250/6250 [==============================] - 727s 116ms/step - loss: 2.4201 - acc: 0.4290 - val_loss: 2.6531 - val_acc: 0.3844\n",
      "Epoch 14/20\n",
      "6250/6250 [==============================] - 727s 116ms/step - loss: 2.4187 - acc: 0.4296 - val_loss: 2.6652 - val_acc: 0.3839\n",
      "Epoch 15/20\n",
      "6250/6250 [==============================] - 712s 114ms/step - loss: 2.4060 - acc: 0.4334 - val_loss: 2.6581 - val_acc: 0.3847\n",
      "Epoch 16/20\n",
      "6250/6250 [==============================] - 721s 115ms/step - loss: 2.4080 - acc: 0.4324 - val_loss: 2.6762 - val_acc: 0.3847\n",
      "Epoch 17/20\n",
      "WARNING:tensorflow:Your input ran out of data; interrupting training. Make sure that your dataset or generator can generate at least `steps_per_epoch * epochs` batches (in this case, 125000 batches). You may need to use the repeat() function when building your dataset.\n",
      "   0/6250 [..............................] - 0s 0s/step - loss: 2.4080 - acc: 0.4324 - val_loss: 2.6762 - val_acc: 0.3847\n"
     ]
    }
   ],
   "source": [
    "history_text = model.fit(X_train, y_train, batch_size=128, epochs=20,steps_per_epoch=6250 ,verbose=1, validation_split=0.2)"
   ]
  },
  {
   "cell_type": "markdown",
   "metadata": {},
   "source": [
    "# Combining the Models:-"
   ]
  },
  {
   "cell_type": "code",
   "execution_count": 161,
   "metadata": {},
   "outputs": [],
   "source": [
    "text_inputs = Input(shape=(maxlen,))\n",
    "numerical_input = Input(shape=(9,))\n"
   ]
  },
  {
   "cell_type": "code",
   "execution_count": 162,
   "metadata": {},
   "outputs": [],
   "source": [
    "embedding_layer = Embedding(vocab_size, 300, weights=[emb_matrix], trainable=False)(text_inputs)\n",
    "LSTM_Layer_1 = LSTM(128)(embedding_layer)\n",
    "\n"
   ]
  },
  {
   "cell_type": "code",
   "execution_count": 163,
   "metadata": {},
   "outputs": [],
   "source": [
    "dense_layer_num_1 = Dense(150, activation='relu')(numerical_input)\n",
    "dense_layer_num_2 = Dense(300, activation='relu')(dense_layer_num_1)\n",
    "dense_layer_num_3 = Dense(400, activation='relu')(dense_layer_num_2)"
   ]
  },
  {
   "cell_type": "code",
   "execution_count": 164,
   "metadata": {},
   "outputs": [],
   "source": [
    "concat_layer = Concatenate()([LSTM_Layer_1, dense_layer_num_3])\n",
    "dense_layer_4 = Dense(10, activation='relu')(concat_layer)\n",
    "output = Dense(165, activation='softmax')(dense_layer_4)\n",
    "model = Model(inputs=[text_inputs, numerical_input], outputs=output)"
   ]
  },
  {
   "cell_type": "code",
   "execution_count": 166,
   "metadata": {},
   "outputs": [
    {
     "name": "stdout",
     "output_type": "stream",
     "text": [
      "Model: \"functional_27\"\n",
      "__________________________________________________________________________________________________\n",
      "Layer (type)                    Output Shape         Param #     Connected to                     \n",
      "==================================================================================================\n",
      "input_21 (InputLayer)           [(None, 9)]          0                                            \n",
      "__________________________________________________________________________________________________\n",
      "input_20 (InputLayer)           [(None, 300)]        0                                            \n",
      "__________________________________________________________________________________________________\n",
      "dense_60 (Dense)                (None, 150)          1500        input_21[0][0]                   \n",
      "__________________________________________________________________________________________________\n",
      "embedding_9 (Embedding)         (None, 300, 300)     24312900    input_20[0][0]                   \n",
      "__________________________________________________________________________________________________\n",
      "dense_61 (Dense)                (None, 300)          45300       dense_60[0][0]                   \n",
      "__________________________________________________________________________________________________\n",
      "lstm_10 (LSTM)                  (None, 128)          219648      embedding_9[0][0]                \n",
      "__________________________________________________________________________________________________\n",
      "dense_62 (Dense)                (None, 400)          120400      dense_61[0][0]                   \n",
      "__________________________________________________________________________________________________\n",
      "concatenate_4 (Concatenate)     (None, 528)          0           lstm_10[0][0]                    \n",
      "                                                                 dense_62[0][0]                   \n",
      "__________________________________________________________________________________________________\n",
      "dense_63 (Dense)                (None, 10)           5290        concatenate_4[0][0]              \n",
      "__________________________________________________________________________________________________\n",
      "dense_64 (Dense)                (None, 165)          1815        dense_63[0][0]                   \n",
      "==================================================================================================\n",
      "Total params: 24,706,853\n",
      "Trainable params: 393,953\n",
      "Non-trainable params: 24,312,900\n",
      "__________________________________________________________________________________________________\n"
     ]
    }
   ],
   "source": [
    "model.summary()"
   ]
  },
  {
   "cell_type": "code",
   "execution_count": 167,
   "metadata": {},
   "outputs": [],
   "source": [
    "model.compile(loss='categorical_crossentropy', optimizer='adam', metrics=['acc'])\n"
   ]
  },
  {
   "cell_type": "code",
   "execution_count": 169,
   "metadata": {},
   "outputs": [
    {
     "name": "stdout",
     "output_type": "stream",
     "text": [
      "Epoch 1/10\n",
      "1600/1600 [==============================] - 136s 85ms/step - loss: 2.0232 - acc: 0.4216 - val_loss: 1.6689 - val_acc: 0.4724\n",
      "Epoch 2/10\n",
      "1600/1600 [==============================] - 149s 93ms/step - loss: 1.5748 - acc: 0.4805 - val_loss: 1.5434 - val_acc: 0.4830\n",
      "Epoch 3/10\n",
      "1600/1600 [==============================] - 154s 96ms/step - loss: 1.5051 - acc: 0.4892 - val_loss: 1.4849 - val_acc: 0.4909\n",
      "Epoch 4/10\n",
      "1600/1600 [==============================] - 172s 108ms/step - loss: 1.4759 - acc: 0.4948 - val_loss: 1.4554 - val_acc: 0.5004\n",
      "Epoch 5/10\n",
      "1600/1600 [==============================] - 177s 111ms/step - loss: 1.4587 - acc: 0.5014 - val_loss: 1.4335 - val_acc: 0.5093\n",
      "Epoch 6/10\n",
      "1600/1600 [==============================] - 225s 140ms/step - loss: 1.4212 - acc: 0.5130 - val_loss: 1.4035 - val_acc: 0.5186\n",
      "Epoch 7/10\n",
      "1600/1600 [==============================] - 253s 158ms/step - loss: 1.4127 - acc: 0.5140 - val_loss: 1.3958 - val_acc: 0.5202\n",
      "Epoch 8/10\n",
      "1600/1600 [==============================] - 224s 140ms/step - loss: 1.3798 - acc: 0.5230 - val_loss: 1.3482 - val_acc: 0.5317\n",
      "Epoch 9/10\n",
      "1600/1600 [==============================] - 242s 151ms/step - loss: 1.3479 - acc: 0.5311 - val_loss: 1.3408 - val_acc: 0.5262\n",
      "Epoch 10/10\n",
      "1600/1600 [==============================] - 279s 174ms/step - loss: 1.3323 - acc: 0.5368 - val_loss: 1.3035 - val_acc: 0.5459\n"
     ]
    }
   ],
   "source": [
    "history_combined = model.fit(x=[X_train, X_train_new], y=y_train, batch_size=100, epochs=10, verbose=1, steps_per_epoch=1600,validation_split=0.2)"
   ]
  },
  {
   "cell_type": "code",
   "execution_count": 174,
   "metadata": {},
   "outputs": [
    {
     "name": "stdout",
     "output_type": "stream",
     "text": [
      "6250/6250 [==============================] - 128s 21ms/step - loss: 1.3037 - acc: 0.54593s - loss: 1.3 - ETA: 2s - loss: 1.3038 - acc: 0. - ETA: 1s \n",
      "Test Score: 1.3037458658218384\n",
      "Test Accuracy: 0.5459499955177307\n"
     ]
    }
   ],
   "source": [
    "score = model.evaluate(x=[X_test, X_test_new], y=y_test, verbose=1)\n",
    "\n",
    "print(\"Test Score:\", score[0])\n",
    "print(\"Test Accuracy:\", score[1])"
   ]
  },
  {
   "cell_type": "code",
   "execution_count": 175,
   "metadata": {},
   "outputs": [
    {
     "data": {
      "image/png": "[encoded data removed]",
      "text/plain": [
       "<Figure size 432x288 with 1 Axes>"
      ]
     },
     "metadata": {
      "needs_background": "light"
     },
     "output_type": "display_data"
    },
    {
     "data": {
      "image/png": "[encoded data removed]",
      "text/plain": [
       "<Figure size 432x288 with 1 Axes>"
      ]
     },
     "metadata": {
      "needs_background": "light"
     },
     "output_type": "display_data"
    }
   ],
   "source": [
    "\n",
    "plt.plot(history_combined.history['acc'])\n",
    "plt.plot(history_combined.history['val_acc'])\n",
    "\n",
    "plt.title('model accuracy')\n",
    "plt.ylabel('accuracy')\n",
    "plt.xlabel('epoch')\n",
    "plt.legend(['train','test'], loc='upper left')\n",
    "plt.show()\n",
    "\n",
    "plt.plot(history_combined.history['loss'])\n",
    "plt.plot(history_combined.history['val_loss'])\n",
    "\n",
    "plt.title('model loss')\n",
    "plt.ylabel('loss')\n",
    "plt.xlabel('epoch')\n",
    "plt.legend(['train','test'], loc='upper left')\n",
    "plt.show()"
   ]
  }
 ],
 "metadata": {
  "kernelspec": {
   "display_name": "Python 3",
   "language": "python",
   "name": "python3"
  },
  "language_info": {
   "codemirror_mode": {
    "name": "ipython",
    "version": 3
   },
   "file_extension": ".py",
   "mimetype": "text/x-python",
   "name": "python",
   "nbconvert_exporter": "python",
   "pygments_lexer": "ipython3",
   "version": "3.7.6"
  }
 },
 "nbformat": 4,
 "nbformat_minor": 4
}
